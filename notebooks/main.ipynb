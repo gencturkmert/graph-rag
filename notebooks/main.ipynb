{
 "cells": [
  {
   "cell_type": "code",
   "execution_count": 1,
   "metadata": {},
   "outputs": [],
   "source": [
    "import sys\n",
    "import os\n",
    "\n",
    "# Instead of using __file__, you can use os.getcwd() to get the current working directory\n",
    "current_dir = os.getcwd()\n",
    "sys.path.append(os.path.abspath(os.path.join(current_dir, '..')))\n",
    "\n",
    "# Now you can import your module\n",
    "\n"
   ]
  },
  {
   "cell_type": "code",
   "execution_count": 2,
   "metadata": {},
   "outputs": [
    {
     "name": "stderr",
     "output_type": "stream",
     "text": [
      "/home/mertgencturk/miniconda3/envs/variant_1/lib/python3.8/site-packages/torch/cuda/__init__.py:619: UserWarning: Can't initialize NVML\n",
      "  warnings.warn(\"Can't initialize NVML\")\n",
      "/home/mertgencturk/miniconda3/envs/variant_1/lib/python3.8/site-packages/torch/cuda/__init__.py:749: UserWarning: CUDA initialization: The NVIDIA driver on your system is too old (found version 11070). Please update your GPU driver by downloading and installing a new version from the URL: http://www.nvidia.com/Download/index.aspx Alternatively, go to: https://pytorch.org to install a PyTorch version that has been compiled with your version of the CUDA driver. (Triggered internally at /opt/conda/conda-bld/pytorch_1716905975447/work/c10/cuda/CUDAFunctions.cpp:108.)\n",
      "  return torch._C._cuda_getDeviceCount() if nvml_count < 0 else nvml_count\n",
      "/home/mertgencturk/miniconda3/envs/variant_1/lib/python3.8/site-packages/numba/core/types/__init__.py:108: FutureWarning: In the future `np.long` will be defined as the corresponding NumPy scalar.\n",
      "  long_ = _make_signed(np.long)\n",
      "/home/mertgencturk/miniconda3/envs/variant_1/lib/python3.8/site-packages/tqdm/auto.py:21: TqdmWarning: IProgress not found. Please update jupyter and ipywidgets. See https://ipywidgets.readthedocs.io/en/stable/user_install.html\n",
      "  from .autonotebook import tqdm as notebook_tqdm\n",
      "/home/mertgencturk/miniconda3/envs/variant_1/lib/python3.8/site-packages/pydantic/_internal/_fields.py:161: UserWarning: Field \"model_id\" has conflict with protected namespace \"model_\".\n",
      "\n",
      "You may be able to resolve this warning by setting `model_config['protected_namespaces'] = ()`.\n",
      "  warnings.warn(\n"
     ]
    }
   ],
   "source": [
    "from src.rag.rag import RAG"
   ]
  },
  {
   "cell_type": "code",
   "execution_count": 6,
   "metadata": {},
   "outputs": [
    {
     "name": "stdout",
     "output_type": "stream",
     "text": [
      "None\n"
     ]
    }
   ],
   "source": [
    "from dotenv import load_dotenv\n",
    "dotenv_path = os.path.abspath(os.path.join(current_dir, '..', 'src', '.env'))\n",
    "\n",
    "load_dotenv(dotenv_path)\n",
    "\n",
    "# Now you can access the environment variables\n",
    "# Example: print the value of an environment variable\n",
    "print(os.getenv('YOUR_ENV_VARIABLE'))"
   ]
  },
  {
   "cell_type": "code",
   "execution_count": 7,
   "metadata": {},
   "outputs": [
    {
     "name": "stdout",
     "output_type": "stream",
     "text": [
      "Using device: cpu\n",
      "Connection succesfull.\n"
     ]
    },
    {
     "name": "stderr",
     "output_type": "stream",
     "text": [
      "Received notification from DBMS server: {severity: WARNING} {code: Neo.ClientNotification.Statement.FeatureDeprecationWarning} {category: DEPRECATION} {title: This feature is deprecated and will be removed in future versions.} {description: The query used a deprecated function: `id`.} {position: line: 3, column: 24, offset: 43} for query: '\\n        MATCH (a:Article) \\n        RETURN id(a) as id, \\n               a.title as title, \\n               a.year as year, \\n               a.journal as journal, \\n               a.volume as volume\\n        '\n",
      "Received notification from DBMS server: {severity: WARNING} {code: Neo.ClientNotification.Statement.FeatureDeprecationWarning} {category: DEPRECATION} {title: This feature is deprecated and will be removed in future versions.} {description: The query used a deprecated function: `id`.} {position: line: 3, column: 24, offset: 71} for query: '\\n        MATCH (a:Article)<-[:AUTHORED]-(author:Person)\\n        RETURN id(a) as article_id, collect(author.name) as authors\\n        '\n"
     ]
    },
    {
     "name": "stdout",
     "output_type": "stream",
     "text": [
      "Added author number: 17978\n"
     ]
    },
    {
     "name": "stderr",
     "output_type": "stream",
     "text": [
      "Received notification from DBMS server: {severity: WARNING} {code: Neo.ClientNotification.Statement.FeatureDeprecationWarning} {category: DEPRECATION} {title: This feature is deprecated and will be removed in future versions.} {description: The query used a deprecated function: `id`.} {position: line: 3, column: 24, offset: 66} for query: '\\n        MATCH (a:Article)-[r:CITES]->(b:Article) \\n        RETURN id(a) as source, id(b) as target\\n        '\n",
      "Received notification from DBMS server: {severity: WARNING} {code: Neo.ClientNotification.Statement.FeatureDeprecationWarning} {category: DEPRECATION} {title: This feature is deprecated and will be removed in future versions.} {description: The query used a deprecated function: `id`.} {position: line: 3, column: 41, offset: 83} for query: '\\n        MATCH (a:Article)-[r:CITES]->(b:Article) \\n        RETURN id(a) as source, id(b) as target\\n        '\n"
     ]
    },
    {
     "name": "stdout",
     "output_type": "stream",
     "text": [
      "Total CITES edges added: 5979\n",
      "Using llm model: meta-llama/Meta-Llama-3-8B-Instruct\n"
     ]
    },
    {
     "name": "stderr",
     "output_type": "stream",
     "text": [
      "Loading checkpoint shards: 100%|██████████| 4/4 [00:04<00:00,  1.25s/it]\n"
     ]
    },
    {
     "name": "stdout",
     "output_type": "stream",
     "text": [
      "rag model created\n"
     ]
    }
   ],
   "source": [
    "rag = RAG()\n",
    "print(\"rag model created\")"
   ]
  },
  {
   "cell_type": "code",
   "execution_count": 8,
   "metadata": {},
   "outputs": [
    {
     "name": "stderr",
     "output_type": "stream",
     "text": [
      "/home/mertgencturk/miniconda3/envs/variant_1/lib/python3.8/site-packages/torch/amp/grad_scaler.py:131: UserWarning: torch.cuda.amp.GradScaler is enabled, but CUDA is not available.  Disabling.\n",
      "  warnings.warn(\n",
      "/home/mertgencturk/miniconda3/envs/variant_1/lib/python3.8/site-packages/torch/amp/autocast_mode.py:250: UserWarning: User provided device_type of 'cuda', but CUDA is not available. Disabling\n",
      "  warnings.warn(\n"
     ]
    },
    {
     "name": "stdout",
     "output_type": "stream",
     "text": [
      "Epoch 1, Loss: 1.3863438367843628\n",
      "Epoch 2, Loss: 1.3860386610031128\n",
      "Epoch 3, Loss: 1.385127305984497\n",
      "Epoch 4, Loss: 1.3837038278579712\n",
      "Epoch 5, Loss: 1.3825734853744507\n",
      "Epoch 6, Loss: 1.380953311920166\n",
      "Epoch 7, Loss: 1.3788471221923828\n",
      "Epoch 8, Loss: 1.377099633216858\n",
      "Epoch 9, Loss: 1.3734455108642578\n",
      "Epoch 10, Loss: 1.3704533576965332\n",
      "Epoch 11, Loss: 1.367931842803955\n",
      "Epoch 12, Loss: 1.3638252019882202\n",
      "Epoch 13, Loss: 1.3572367429733276\n",
      "Epoch 14, Loss: 1.352890968322754\n",
      "Epoch 15, Loss: 1.3450474739074707\n",
      "Epoch 16, Loss: 1.3399224281311035\n",
      "Epoch 17, Loss: 1.3335342407226562\n",
      "Epoch 18, Loss: 1.3249026536941528\n",
      "Epoch 19, Loss: 1.319427728652954\n",
      "Epoch 20, Loss: 1.3149969577789307\n",
      "Epoch 21, Loss: 1.3048479557037354\n",
      "Epoch 22, Loss: 1.3016636371612549\n",
      "Epoch 23, Loss: 1.2975578308105469\n",
      "Epoch 24, Loss: 1.2918719053268433\n",
      "Epoch 25, Loss: 1.2815495729446411\n",
      "Epoch 26, Loss: 1.2828010320663452\n",
      "Epoch 27, Loss: 1.2782469987869263\n",
      "Epoch 28, Loss: 1.273447036743164\n",
      "Epoch 29, Loss: 1.2765058279037476\n",
      "Epoch 30, Loss: 1.2685755491256714\n",
      "Epoch 31, Loss: 1.2736430168151855\n",
      "Epoch 32, Loss: 1.27299165725708\n",
      "Epoch 33, Loss: 1.264927625656128\n",
      "Epoch 34, Loss: 1.268052101135254\n",
      "Epoch 35, Loss: 1.267791748046875\n",
      "Epoch 36, Loss: 1.258296251296997\n",
      "Epoch 37, Loss: 1.2595809698104858\n",
      "Epoch 38, Loss: 1.2512238025665283\n",
      "Epoch 39, Loss: 1.2564520835876465\n",
      "Epoch 40, Loss: 1.2532192468643188\n",
      "Epoch 41, Loss: 1.2501964569091797\n",
      "Epoch 42, Loss: 1.2498230934143066\n",
      "Epoch 43, Loss: 1.2502644062042236\n",
      "Epoch 44, Loss: 1.2405164241790771\n",
      "Epoch 45, Loss: 1.2502315044403076\n",
      "Epoch 46, Loss: 1.2493524551391602\n",
      "Epoch 47, Loss: 1.252402424812317\n",
      "Epoch 48, Loss: 1.2478611469268799\n",
      "Epoch 49, Loss: 1.2485789060592651\n",
      "Epoch 50, Loss: 1.2473676204681396\n",
      "Epoch 51, Loss: 1.2477185726165771\n",
      "Epoch 52, Loss: 1.2423123121261597\n",
      "Epoch 53, Loss: 1.2479453086853027\n",
      "Epoch 54, Loss: 1.241858959197998\n",
      "Epoch 55, Loss: 1.2497644424438477\n",
      "Epoch 56, Loss: 1.2387685775756836\n",
      "Epoch 57, Loss: 1.2418699264526367\n",
      "Epoch 58, Loss: 1.2471644878387451\n",
      "Epoch 59, Loss: 1.2439152002334595\n",
      "Epoch 60, Loss: 1.2357125282287598\n",
      "Epoch 61, Loss: 1.2328789234161377\n",
      "Epoch 62, Loss: 1.227756142616272\n",
      "Epoch 63, Loss: 1.239290475845337\n",
      "Epoch 64, Loss: 1.238909363746643\n",
      "Epoch 65, Loss: 1.2396152019500732\n",
      "Epoch 66, Loss: 1.2431237697601318\n",
      "Epoch 67, Loss: 1.234809398651123\n",
      "Epoch 68, Loss: 1.2360410690307617\n",
      "Epoch 69, Loss: 1.2418644428253174\n",
      "Epoch 70, Loss: 1.2396774291992188\n",
      "Epoch 71, Loss: 1.23460853099823\n",
      "Epoch 72, Loss: 1.2366342544555664\n",
      "Epoch 73, Loss: 1.2408952713012695\n",
      "Epoch 74, Loss: 1.2334470748901367\n",
      "Epoch 75, Loss: 1.238120675086975\n",
      "Epoch 76, Loss: 1.2311115264892578\n",
      "Epoch 77, Loss: 1.2391316890716553\n",
      "Epoch 78, Loss: 1.23549222946167\n",
      "Epoch 79, Loss: 1.232210636138916\n",
      "Epoch 80, Loss: 1.2308242321014404\n",
      "Epoch 81, Loss: 1.2350071668624878\n",
      "Epoch 82, Loss: 1.2281723022460938\n",
      "Epoch 83, Loss: 1.2353143692016602\n",
      "Epoch 84, Loss: 1.234529972076416\n",
      "Epoch 85, Loss: 1.229435920715332\n",
      "Epoch 86, Loss: 1.2279987335205078\n",
      "Epoch 87, Loss: 1.2313411235809326\n",
      "Epoch 88, Loss: 1.2343528270721436\n",
      "Epoch 89, Loss: 1.2382665872573853\n",
      "Epoch 90, Loss: 1.2325739860534668\n",
      "Epoch 91, Loss: 1.2348675727844238\n",
      "Epoch 92, Loss: 1.2308378219604492\n",
      "Epoch 93, Loss: 1.2322299480438232\n",
      "Epoch 94, Loss: 1.235292911529541\n",
      "Epoch 95, Loss: 1.2324941158294678\n",
      "Epoch 96, Loss: 1.2273499965667725\n",
      "Epoch 97, Loss: 1.230259656906128\n",
      "Epoch 98, Loss: 1.2323987483978271\n",
      "Epoch 99, Loss: 1.2248265743255615\n",
      "Epoch 100, Loss: 1.2315316200256348\n",
      "dgi trained\n",
      "Embeddings shape: torch.Size([20854, 64])\n",
      "Embeddings dict keys shape: 20854\n",
      "embeddings values: (20854, 64)\n",
      "embeddings fetched\n"
     ]
    },
    {
     "name": "stderr",
     "output_type": "stream",
     "text": [
      "Adding to vector store:   0%|          | 0/42 [00:00<?, ?it/s]Received notification from DBMS server: {severity: WARNING} {code: Neo.ClientNotification.Statement.FeatureDeprecationWarning} {category: DEPRECATION} {title: This feature is deprecated and will be removed in future versions.} {description: The query used a deprecated procedure. ('db.create.setVectorProperty' has been replaced by 'db.create.setNodeVectorProperty')} {position: line: 1, column: 84, offset: 83} for query: \"UNWIND $data AS row CALL { WITH row MERGE (c:`GraphNode` {id: row.id}) WITH c, row CALL db.create.setVectorProperty(c, 'embedding', row.embedding) YIELD node SET c.`text` = row.text SET c += row.metadata } IN TRANSACTIONS OF 1000 ROWS\"\n",
      "Adding to vector store:   2%|▏         | 1/42 [00:13<09:21, 13.69s/it]Received notification from DBMS server: {severity: WARNING} {code: Neo.ClientNotification.Statement.FeatureDeprecationWarning} {category: DEPRECATION} {title: This feature is deprecated and will be removed in future versions.} {description: The query used a deprecated procedure. ('db.create.setVectorProperty' has been replaced by 'db.create.setNodeVectorProperty')} {position: line: 1, column: 84, offset: 83} for query: \"UNWIND $data AS row CALL { WITH row MERGE (c:`GraphNode` {id: row.id}) WITH c, row CALL db.create.setVectorProperty(c, 'embedding', row.embedding) YIELD node SET c.`text` = row.text SET c += row.metadata } IN TRANSACTIONS OF 1000 ROWS\"\n",
      "Adding to vector store:   5%|▍         | 2/42 [00:27<09:06, 13.66s/it]Received notification from DBMS server: {severity: WARNING} {code: Neo.ClientNotification.Statement.FeatureDeprecationWarning} {category: DEPRECATION} {title: This feature is deprecated and will be removed in future versions.} {description: The query used a deprecated procedure. ('db.create.setVectorProperty' has been replaced by 'db.create.setNodeVectorProperty')} {position: line: 1, column: 84, offset: 83} for query: \"UNWIND $data AS row CALL { WITH row MERGE (c:`GraphNode` {id: row.id}) WITH c, row CALL db.create.setVectorProperty(c, 'embedding', row.embedding) YIELD node SET c.`text` = row.text SET c += row.metadata } IN TRANSACTIONS OF 1000 ROWS\"\n",
      "Adding to vector store:   7%|▋         | 3/42 [00:41<08:56, 13.76s/it]Received notification from DBMS server: {severity: WARNING} {code: Neo.ClientNotification.Statement.FeatureDeprecationWarning} {category: DEPRECATION} {title: This feature is deprecated and will be removed in future versions.} {description: The query used a deprecated procedure. ('db.create.setVectorProperty' has been replaced by 'db.create.setNodeVectorProperty')} {position: line: 1, column: 84, offset: 83} for query: \"UNWIND $data AS row CALL { WITH row MERGE (c:`GraphNode` {id: row.id}) WITH c, row CALL db.create.setVectorProperty(c, 'embedding', row.embedding) YIELD node SET c.`text` = row.text SET c += row.metadata } IN TRANSACTIONS OF 1000 ROWS\"\n",
      "Adding to vector store:  10%|▉         | 4/42 [00:55<08:49, 13.94s/it]Received notification from DBMS server: {severity: WARNING} {code: Neo.ClientNotification.Statement.FeatureDeprecationWarning} {category: DEPRECATION} {title: This feature is deprecated and will be removed in future versions.} {description: The query used a deprecated procedure. ('db.create.setVectorProperty' has been replaced by 'db.create.setNodeVectorProperty')} {position: line: 1, column: 84, offset: 83} for query: \"UNWIND $data AS row CALL { WITH row MERGE (c:`GraphNode` {id: row.id}) WITH c, row CALL db.create.setVectorProperty(c, 'embedding', row.embedding) YIELD node SET c.`text` = row.text SET c += row.metadata } IN TRANSACTIONS OF 1000 ROWS\"\n",
      "Adding to vector store:  12%|█▏        | 5/42 [01:10<08:45, 14.21s/it]Received notification from DBMS server: {severity: WARNING} {code: Neo.ClientNotification.Statement.FeatureDeprecationWarning} {category: DEPRECATION} {title: This feature is deprecated and will be removed in future versions.} {description: The query used a deprecated procedure. ('db.create.setVectorProperty' has been replaced by 'db.create.setNodeVectorProperty')} {position: line: 1, column: 84, offset: 83} for query: \"UNWIND $data AS row CALL { WITH row MERGE (c:`GraphNode` {id: row.id}) WITH c, row CALL db.create.setVectorProperty(c, 'embedding', row.embedding) YIELD node SET c.`text` = row.text SET c += row.metadata } IN TRANSACTIONS OF 1000 ROWS\"\n",
      "Adding to vector store:  14%|█▍        | 6/42 [01:25<08:41, 14.47s/it]Received notification from DBMS server: {severity: WARNING} {code: Neo.ClientNotification.Statement.FeatureDeprecationWarning} {category: DEPRECATION} {title: This feature is deprecated and will be removed in future versions.} {description: The query used a deprecated procedure. ('db.create.setVectorProperty' has been replaced by 'db.create.setNodeVectorProperty')} {position: line: 1, column: 84, offset: 83} for query: \"UNWIND $data AS row CALL { WITH row MERGE (c:`GraphNode` {id: row.id}) WITH c, row CALL db.create.setVectorProperty(c, 'embedding', row.embedding) YIELD node SET c.`text` = row.text SET c += row.metadata } IN TRANSACTIONS OF 1000 ROWS\"\n",
      "Adding to vector store:  17%|█▋        | 7/42 [01:40<08:36, 14.77s/it]Received notification from DBMS server: {severity: WARNING} {code: Neo.ClientNotification.Statement.FeatureDeprecationWarning} {category: DEPRECATION} {title: This feature is deprecated and will be removed in future versions.} {description: The query used a deprecated procedure. ('db.create.setVectorProperty' has been replaced by 'db.create.setNodeVectorProperty')} {position: line: 1, column: 84, offset: 83} for query: \"UNWIND $data AS row CALL { WITH row MERGE (c:`GraphNode` {id: row.id}) WITH c, row CALL db.create.setVectorProperty(c, 'embedding', row.embedding) YIELD node SET c.`text` = row.text SET c += row.metadata } IN TRANSACTIONS OF 1000 ROWS\"\n",
      "Adding to vector store:  19%|█▉        | 8/42 [01:56<08:37, 15.21s/it]Received notification from DBMS server: {severity: WARNING} {code: Neo.ClientNotification.Statement.FeatureDeprecationWarning} {category: DEPRECATION} {title: This feature is deprecated and will be removed in future versions.} {description: The query used a deprecated procedure. ('db.create.setVectorProperty' has been replaced by 'db.create.setNodeVectorProperty')} {position: line: 1, column: 84, offset: 83} for query: \"UNWIND $data AS row CALL { WITH row MERGE (c:`GraphNode` {id: row.id}) WITH c, row CALL db.create.setVectorProperty(c, 'embedding', row.embedding) YIELD node SET c.`text` = row.text SET c += row.metadata } IN TRANSACTIONS OF 1000 ROWS\"\n",
      "Adding to vector store:  21%|██▏       | 9/42 [02:13<08:36, 15.65s/it]Received notification from DBMS server: {severity: WARNING} {code: Neo.ClientNotification.Statement.FeatureDeprecationWarning} {category: DEPRECATION} {title: This feature is deprecated and will be removed in future versions.} {description: The query used a deprecated procedure. ('db.create.setVectorProperty' has been replaced by 'db.create.setNodeVectorProperty')} {position: line: 1, column: 84, offset: 83} for query: \"UNWIND $data AS row CALL { WITH row MERGE (c:`GraphNode` {id: row.id}) WITH c, row CALL db.create.setVectorProperty(c, 'embedding', row.embedding) YIELD node SET c.`text` = row.text SET c += row.metadata } IN TRANSACTIONS OF 1000 ROWS\"\n",
      "Adding to vector store:  24%|██▍       | 10/42 [02:29<08:27, 15.87s/it]Received notification from DBMS server: {severity: WARNING} {code: Neo.ClientNotification.Statement.FeatureDeprecationWarning} {category: DEPRECATION} {title: This feature is deprecated and will be removed in future versions.} {description: The query used a deprecated procedure. ('db.create.setVectorProperty' has been replaced by 'db.create.setNodeVectorProperty')} {position: line: 1, column: 84, offset: 83} for query: \"UNWIND $data AS row CALL { WITH row MERGE (c:`GraphNode` {id: row.id}) WITH c, row CALL db.create.setVectorProperty(c, 'embedding', row.embedding) YIELD node SET c.`text` = row.text SET c += row.metadata } IN TRANSACTIONS OF 1000 ROWS\"\n",
      "Adding to vector store:  26%|██▌       | 11/42 [02:46<08:19, 16.13s/it]Received notification from DBMS server: {severity: WARNING} {code: Neo.ClientNotification.Statement.FeatureDeprecationWarning} {category: DEPRECATION} {title: This feature is deprecated and will be removed in future versions.} {description: The query used a deprecated procedure. ('db.create.setVectorProperty' has been replaced by 'db.create.setNodeVectorProperty')} {position: line: 1, column: 84, offset: 83} for query: \"UNWIND $data AS row CALL { WITH row MERGE (c:`GraphNode` {id: row.id}) WITH c, row CALL db.create.setVectorProperty(c, 'embedding', row.embedding) YIELD node SET c.`text` = row.text SET c += row.metadata } IN TRANSACTIONS OF 1000 ROWS\"\n",
      "Adding to vector store:  29%|██▊       | 12/42 [03:03<08:12, 16.43s/it]Received notification from DBMS server: {severity: WARNING} {code: Neo.ClientNotification.Statement.FeatureDeprecationWarning} {category: DEPRECATION} {title: This feature is deprecated and will be removed in future versions.} {description: The query used a deprecated procedure. ('db.create.setVectorProperty' has been replaced by 'db.create.setNodeVectorProperty')} {position: line: 1, column: 84, offset: 83} for query: \"UNWIND $data AS row CALL { WITH row MERGE (c:`GraphNode` {id: row.id}) WITH c, row CALL db.create.setVectorProperty(c, 'embedding', row.embedding) YIELD node SET c.`text` = row.text SET c += row.metadata } IN TRANSACTIONS OF 1000 ROWS\"\n",
      "Adding to vector store:  31%|███       | 13/42 [03:20<08:04, 16.70s/it]Received notification from DBMS server: {severity: WARNING} {code: Neo.ClientNotification.Statement.FeatureDeprecationWarning} {category: DEPRECATION} {title: This feature is deprecated and will be removed in future versions.} {description: The query used a deprecated procedure. ('db.create.setVectorProperty' has been replaced by 'db.create.setNodeVectorProperty')} {position: line: 1, column: 84, offset: 83} for query: \"UNWIND $data AS row CALL { WITH row MERGE (c:`GraphNode` {id: row.id}) WITH c, row CALL db.create.setVectorProperty(c, 'embedding', row.embedding) YIELD node SET c.`text` = row.text SET c += row.metadata } IN TRANSACTIONS OF 1000 ROWS\"\n",
      "Adding to vector store:  33%|███▎      | 14/42 [03:38<07:57, 17.04s/it]Received notification from DBMS server: {severity: WARNING} {code: Neo.ClientNotification.Statement.FeatureDeprecationWarning} {category: DEPRECATION} {title: This feature is deprecated and will be removed in future versions.} {description: The query used a deprecated procedure. ('db.create.setVectorProperty' has been replaced by 'db.create.setNodeVectorProperty')} {position: line: 1, column: 84, offset: 83} for query: \"UNWIND $data AS row CALL { WITH row MERGE (c:`GraphNode` {id: row.id}) WITH c, row CALL db.create.setVectorProperty(c, 'embedding', row.embedding) YIELD node SET c.`text` = row.text SET c += row.metadata } IN TRANSACTIONS OF 1000 ROWS\"\n",
      "Adding to vector store:  36%|███▌      | 15/42 [03:56<07:48, 17.34s/it]Received notification from DBMS server: {severity: WARNING} {code: Neo.ClientNotification.Statement.FeatureDeprecationWarning} {category: DEPRECATION} {title: This feature is deprecated and will be removed in future versions.} {description: The query used a deprecated procedure. ('db.create.setVectorProperty' has been replaced by 'db.create.setNodeVectorProperty')} {position: line: 1, column: 84, offset: 83} for query: \"UNWIND $data AS row CALL { WITH row MERGE (c:`GraphNode` {id: row.id}) WITH c, row CALL db.create.setVectorProperty(c, 'embedding', row.embedding) YIELD node SET c.`text` = row.text SET c += row.metadata } IN TRANSACTIONS OF 1000 ROWS\"\n",
      "Adding to vector store:  38%|███▊      | 16/42 [04:15<07:41, 17.77s/it]Received notification from DBMS server: {severity: WARNING} {code: Neo.ClientNotification.Statement.FeatureDeprecationWarning} {category: DEPRECATION} {title: This feature is deprecated and will be removed in future versions.} {description: The query used a deprecated procedure. ('db.create.setVectorProperty' has been replaced by 'db.create.setNodeVectorProperty')} {position: line: 1, column: 84, offset: 83} for query: \"UNWIND $data AS row CALL { WITH row MERGE (c:`GraphNode` {id: row.id}) WITH c, row CALL db.create.setVectorProperty(c, 'embedding', row.embedding) YIELD node SET c.`text` = row.text SET c += row.metadata } IN TRANSACTIONS OF 1000 ROWS\"\n",
      "Adding to vector store:  40%|████      | 17/42 [04:34<07:32, 18.11s/it]Received notification from DBMS server: {severity: WARNING} {code: Neo.ClientNotification.Statement.FeatureDeprecationWarning} {category: DEPRECATION} {title: This feature is deprecated and will be removed in future versions.} {description: The query used a deprecated procedure. ('db.create.setVectorProperty' has been replaced by 'db.create.setNodeVectorProperty')} {position: line: 1, column: 84, offset: 83} for query: \"UNWIND $data AS row CALL { WITH row MERGE (c:`GraphNode` {id: row.id}) WITH c, row CALL db.create.setVectorProperty(c, 'embedding', row.embedding) YIELD node SET c.`text` = row.text SET c += row.metadata } IN TRANSACTIONS OF 1000 ROWS\"\n",
      "Adding to vector store:  43%|████▎     | 18/42 [04:53<07:19, 18.33s/it]Received notification from DBMS server: {severity: WARNING} {code: Neo.ClientNotification.Statement.FeatureDeprecationWarning} {category: DEPRECATION} {title: This feature is deprecated and will be removed in future versions.} {description: The query used a deprecated procedure. ('db.create.setVectorProperty' has been replaced by 'db.create.setNodeVectorProperty')} {position: line: 1, column: 84, offset: 83} for query: \"UNWIND $data AS row CALL { WITH row MERGE (c:`GraphNode` {id: row.id}) WITH c, row CALL db.create.setVectorProperty(c, 'embedding', row.embedding) YIELD node SET c.`text` = row.text SET c += row.metadata } IN TRANSACTIONS OF 1000 ROWS\"\n",
      "Adding to vector store:  45%|████▌     | 19/42 [05:12<07:07, 18.61s/it]Received notification from DBMS server: {severity: WARNING} {code: Neo.ClientNotification.Statement.FeatureDeprecationWarning} {category: DEPRECATION} {title: This feature is deprecated and will be removed in future versions.} {description: The query used a deprecated procedure. ('db.create.setVectorProperty' has been replaced by 'db.create.setNodeVectorProperty')} {position: line: 1, column: 84, offset: 83} for query: \"UNWIND $data AS row CALL { WITH row MERGE (c:`GraphNode` {id: row.id}) WITH c, row CALL db.create.setVectorProperty(c, 'embedding', row.embedding) YIELD node SET c.`text` = row.text SET c += row.metadata } IN TRANSACTIONS OF 1000 ROWS\"\n",
      "Adding to vector store:  48%|████▊     | 20/42 [05:32<06:57, 18.97s/it]Received notification from DBMS server: {severity: WARNING} {code: Neo.ClientNotification.Statement.FeatureDeprecationWarning} {category: DEPRECATION} {title: This feature is deprecated and will be removed in future versions.} {description: The query used a deprecated procedure. ('db.create.setVectorProperty' has been replaced by 'db.create.setNodeVectorProperty')} {position: line: 1, column: 84, offset: 83} for query: \"UNWIND $data AS row CALL { WITH row MERGE (c:`GraphNode` {id: row.id}) WITH c, row CALL db.create.setVectorProperty(c, 'embedding', row.embedding) YIELD node SET c.`text` = row.text SET c += row.metadata } IN TRANSACTIONS OF 1000 ROWS\"\n",
      "Adding to vector store:  50%|█████     | 21/42 [05:51<06:42, 19.18s/it]Received notification from DBMS server: {severity: WARNING} {code: Neo.ClientNotification.Statement.FeatureDeprecationWarning} {category: DEPRECATION} {title: This feature is deprecated and will be removed in future versions.} {description: The query used a deprecated procedure. ('db.create.setVectorProperty' has been replaced by 'db.create.setNodeVectorProperty')} {position: line: 1, column: 84, offset: 83} for query: \"UNWIND $data AS row CALL { WITH row MERGE (c:`GraphNode` {id: row.id}) WITH c, row CALL db.create.setVectorProperty(c, 'embedding', row.embedding) YIELD node SET c.`text` = row.text SET c += row.metadata } IN TRANSACTIONS OF 1000 ROWS\"\n",
      "Adding to vector store:  52%|█████▏    | 22/42 [06:12<06:29, 19.49s/it]Received notification from DBMS server: {severity: WARNING} {code: Neo.ClientNotification.Statement.FeatureDeprecationWarning} {category: DEPRECATION} {title: This feature is deprecated and will be removed in future versions.} {description: The query used a deprecated procedure. ('db.create.setVectorProperty' has been replaced by 'db.create.setNodeVectorProperty')} {position: line: 1, column: 84, offset: 83} for query: \"UNWIND $data AS row CALL { WITH row MERGE (c:`GraphNode` {id: row.id}) WITH c, row CALL db.create.setVectorProperty(c, 'embedding', row.embedding) YIELD node SET c.`text` = row.text SET c += row.metadata } IN TRANSACTIONS OF 1000 ROWS\"\n",
      "Adding to vector store:  55%|█████▍    | 23/42 [06:32<06:14, 19.70s/it]Received notification from DBMS server: {severity: WARNING} {code: Neo.ClientNotification.Statement.FeatureDeprecationWarning} {category: DEPRECATION} {title: This feature is deprecated and will be removed in future versions.} {description: The query used a deprecated procedure. ('db.create.setVectorProperty' has been replaced by 'db.create.setNodeVectorProperty')} {position: line: 1, column: 84, offset: 83} for query: \"UNWIND $data AS row CALL { WITH row MERGE (c:`GraphNode` {id: row.id}) WITH c, row CALL db.create.setVectorProperty(c, 'embedding', row.embedding) YIELD node SET c.`text` = row.text SET c += row.metadata } IN TRANSACTIONS OF 1000 ROWS\"\n",
      "Adding to vector store:  57%|█████▋    | 24/42 [06:53<06:01, 20.06s/it]Received notification from DBMS server: {severity: WARNING} {code: Neo.ClientNotification.Statement.FeatureDeprecationWarning} {category: DEPRECATION} {title: This feature is deprecated and will be removed in future versions.} {description: The query used a deprecated procedure. ('db.create.setVectorProperty' has been replaced by 'db.create.setNodeVectorProperty')} {position: line: 1, column: 84, offset: 83} for query: \"UNWIND $data AS row CALL { WITH row MERGE (c:`GraphNode` {id: row.id}) WITH c, row CALL db.create.setVectorProperty(c, 'embedding', row.embedding) YIELD node SET c.`text` = row.text SET c += row.metadata } IN TRANSACTIONS OF 1000 ROWS\"\n",
      "Adding to vector store:  60%|█████▉    | 25/42 [07:14<05:45, 20.35s/it]Received notification from DBMS server: {severity: WARNING} {code: Neo.ClientNotification.Statement.FeatureDeprecationWarning} {category: DEPRECATION} {title: This feature is deprecated and will be removed in future versions.} {description: The query used a deprecated procedure. ('db.create.setVectorProperty' has been replaced by 'db.create.setNodeVectorProperty')} {position: line: 1, column: 84, offset: 83} for query: \"UNWIND $data AS row CALL { WITH row MERGE (c:`GraphNode` {id: row.id}) WITH c, row CALL db.create.setVectorProperty(c, 'embedding', row.embedding) YIELD node SET c.`text` = row.text SET c += row.metadata } IN TRANSACTIONS OF 1000 ROWS\"\n",
      "Adding to vector store:  62%|██████▏   | 26/42 [07:35<05:30, 20.66s/it]Received notification from DBMS server: {severity: WARNING} {code: Neo.ClientNotification.Statement.FeatureDeprecationWarning} {category: DEPRECATION} {title: This feature is deprecated and will be removed in future versions.} {description: The query used a deprecated procedure. ('db.create.setVectorProperty' has been replaced by 'db.create.setNodeVectorProperty')} {position: line: 1, column: 84, offset: 83} for query: \"UNWIND $data AS row CALL { WITH row MERGE (c:`GraphNode` {id: row.id}) WITH c, row CALL db.create.setVectorProperty(c, 'embedding', row.embedding) YIELD node SET c.`text` = row.text SET c += row.metadata } IN TRANSACTIONS OF 1000 ROWS\"\n",
      "Adding to vector store:  64%|██████▍   | 27/42 [07:57<05:17, 21.15s/it]Received notification from DBMS server: {severity: WARNING} {code: Neo.ClientNotification.Statement.FeatureDeprecationWarning} {category: DEPRECATION} {title: This feature is deprecated and will be removed in future versions.} {description: The query used a deprecated procedure. ('db.create.setVectorProperty' has been replaced by 'db.create.setNodeVectorProperty')} {position: line: 1, column: 84, offset: 83} for query: \"UNWIND $data AS row CALL { WITH row MERGE (c:`GraphNode` {id: row.id}) WITH c, row CALL db.create.setVectorProperty(c, 'embedding', row.embedding) YIELD node SET c.`text` = row.text SET c += row.metadata } IN TRANSACTIONS OF 1000 ROWS\"\n",
      "Adding to vector store:  67%|██████▋   | 28/42 [08:19<04:58, 21.31s/it]Received notification from DBMS server: {severity: WARNING} {code: Neo.ClientNotification.Statement.FeatureDeprecationWarning} {category: DEPRECATION} {title: This feature is deprecated and will be removed in future versions.} {description: The query used a deprecated procedure. ('db.create.setVectorProperty' has been replaced by 'db.create.setNodeVectorProperty')} {position: line: 1, column: 84, offset: 83} for query: \"UNWIND $data AS row CALL { WITH row MERGE (c:`GraphNode` {id: row.id}) WITH c, row CALL db.create.setVectorProperty(c, 'embedding', row.embedding) YIELD node SET c.`text` = row.text SET c += row.metadata } IN TRANSACTIONS OF 1000 ROWS\"\n",
      "Adding to vector store:  69%|██████▉   | 29/42 [08:41<04:39, 21.51s/it]Received notification from DBMS server: {severity: WARNING} {code: Neo.ClientNotification.Statement.FeatureDeprecationWarning} {category: DEPRECATION} {title: This feature is deprecated and will be removed in future versions.} {description: The query used a deprecated procedure. ('db.create.setVectorProperty' has been replaced by 'db.create.setNodeVectorProperty')} {position: line: 1, column: 84, offset: 83} for query: \"UNWIND $data AS row CALL { WITH row MERGE (c:`GraphNode` {id: row.id}) WITH c, row CALL db.create.setVectorProperty(c, 'embedding', row.embedding) YIELD node SET c.`text` = row.text SET c += row.metadata } IN TRANSACTIONS OF 1000 ROWS\"\n",
      "Adding to vector store:  71%|███████▏  | 30/42 [09:03<04:20, 21.73s/it]Received notification from DBMS server: {severity: WARNING} {code: Neo.ClientNotification.Statement.FeatureDeprecationWarning} {category: DEPRECATION} {title: This feature is deprecated and will be removed in future versions.} {description: The query used a deprecated procedure. ('db.create.setVectorProperty' has been replaced by 'db.create.setNodeVectorProperty')} {position: line: 1, column: 84, offset: 83} for query: \"UNWIND $data AS row CALL { WITH row MERGE (c:`GraphNode` {id: row.id}) WITH c, row CALL db.create.setVectorProperty(c, 'embedding', row.embedding) YIELD node SET c.`text` = row.text SET c += row.metadata } IN TRANSACTIONS OF 1000 ROWS\"\n",
      "Adding to vector store:  74%|███████▍  | 31/42 [09:26<04:00, 21.90s/it]Received notification from DBMS server: {severity: WARNING} {code: Neo.ClientNotification.Statement.FeatureDeprecationWarning} {category: DEPRECATION} {title: This feature is deprecated and will be removed in future versions.} {description: The query used a deprecated procedure. ('db.create.setVectorProperty' has been replaced by 'db.create.setNodeVectorProperty')} {position: line: 1, column: 84, offset: 83} for query: \"UNWIND $data AS row CALL { WITH row MERGE (c:`GraphNode` {id: row.id}) WITH c, row CALL db.create.setVectorProperty(c, 'embedding', row.embedding) YIELD node SET c.`text` = row.text SET c += row.metadata } IN TRANSACTIONS OF 1000 ROWS\"\n",
      "Adding to vector store:  76%|███████▌  | 32/42 [09:49<03:43, 22.32s/it]Received notification from DBMS server: {severity: WARNING} {code: Neo.ClientNotification.Statement.FeatureDeprecationWarning} {category: DEPRECATION} {title: This feature is deprecated and will be removed in future versions.} {description: The query used a deprecated procedure. ('db.create.setVectorProperty' has been replaced by 'db.create.setNodeVectorProperty')} {position: line: 1, column: 84, offset: 83} for query: \"UNWIND $data AS row CALL { WITH row MERGE (c:`GraphNode` {id: row.id}) WITH c, row CALL db.create.setVectorProperty(c, 'embedding', row.embedding) YIELD node SET c.`text` = row.text SET c += row.metadata } IN TRANSACTIONS OF 1000 ROWS\"\n",
      "Adding to vector store:  79%|███████▊  | 33/42 [10:12<03:24, 22.69s/it]Received notification from DBMS server: {severity: WARNING} {code: Neo.ClientNotification.Statement.FeatureDeprecationWarning} {category: DEPRECATION} {title: This feature is deprecated and will be removed in future versions.} {description: The query used a deprecated procedure. ('db.create.setVectorProperty' has been replaced by 'db.create.setNodeVectorProperty')} {position: line: 1, column: 84, offset: 83} for query: \"UNWIND $data AS row CALL { WITH row MERGE (c:`GraphNode` {id: row.id}) WITH c, row CALL db.create.setVectorProperty(c, 'embedding', row.embedding) YIELD node SET c.`text` = row.text SET c += row.metadata } IN TRANSACTIONS OF 1000 ROWS\"\n",
      "Adding to vector store:  81%|████████  | 34/42 [10:36<03:04, 23.03s/it]Received notification from DBMS server: {severity: WARNING} {code: Neo.ClientNotification.Statement.FeatureDeprecationWarning} {category: DEPRECATION} {title: This feature is deprecated and will be removed in future versions.} {description: The query used a deprecated procedure. ('db.create.setVectorProperty' has been replaced by 'db.create.setNodeVectorProperty')} {position: line: 1, column: 84, offset: 83} for query: \"UNWIND $data AS row CALL { WITH row MERGE (c:`GraphNode` {id: row.id}) WITH c, row CALL db.create.setVectorProperty(c, 'embedding', row.embedding) YIELD node SET c.`text` = row.text SET c += row.metadata } IN TRANSACTIONS OF 1000 ROWS\"\n",
      "Adding to vector store:  83%|████████▎ | 35/42 [11:00<02:43, 23.36s/it]Received notification from DBMS server: {severity: WARNING} {code: Neo.ClientNotification.Statement.FeatureDeprecationWarning} {category: DEPRECATION} {title: This feature is deprecated and will be removed in future versions.} {description: The query used a deprecated procedure. ('db.create.setVectorProperty' has been replaced by 'db.create.setNodeVectorProperty')} {position: line: 1, column: 84, offset: 83} for query: \"UNWIND $data AS row CALL { WITH row MERGE (c:`GraphNode` {id: row.id}) WITH c, row CALL db.create.setVectorProperty(c, 'embedding', row.embedding) YIELD node SET c.`text` = row.text SET c += row.metadata } IN TRANSACTIONS OF 1000 ROWS\"\n",
      "Adding to vector store:  86%|████████▌ | 36/42 [11:25<02:21, 23.62s/it]Received notification from DBMS server: {severity: WARNING} {code: Neo.ClientNotification.Statement.FeatureDeprecationWarning} {category: DEPRECATION} {title: This feature is deprecated and will be removed in future versions.} {description: The query used a deprecated procedure. ('db.create.setVectorProperty' has been replaced by 'db.create.setNodeVectorProperty')} {position: line: 1, column: 84, offset: 83} for query: \"UNWIND $data AS row CALL { WITH row MERGE (c:`GraphNode` {id: row.id}) WITH c, row CALL db.create.setVectorProperty(c, 'embedding', row.embedding) YIELD node SET c.`text` = row.text SET c += row.metadata } IN TRANSACTIONS OF 1000 ROWS\"\n",
      "Adding to vector store:  88%|████████▊ | 37/42 [11:49<01:59, 23.94s/it]Received notification from DBMS server: {severity: WARNING} {code: Neo.ClientNotification.Statement.FeatureDeprecationWarning} {category: DEPRECATION} {title: This feature is deprecated and will be removed in future versions.} {description: The query used a deprecated procedure. ('db.create.setVectorProperty' has been replaced by 'db.create.setNodeVectorProperty')} {position: line: 1, column: 84, offset: 83} for query: \"UNWIND $data AS row CALL { WITH row MERGE (c:`GraphNode` {id: row.id}) WITH c, row CALL db.create.setVectorProperty(c, 'embedding', row.embedding) YIELD node SET c.`text` = row.text SET c += row.metadata } IN TRANSACTIONS OF 1000 ROWS\"\n",
      "Adding to vector store:  90%|█████████ | 38/42 [12:14<01:37, 24.31s/it]Received notification from DBMS server: {severity: WARNING} {code: Neo.ClientNotification.Statement.FeatureDeprecationWarning} {category: DEPRECATION} {title: This feature is deprecated and will be removed in future versions.} {description: The query used a deprecated procedure. ('db.create.setVectorProperty' has been replaced by 'db.create.setNodeVectorProperty')} {position: line: 1, column: 84, offset: 83} for query: \"UNWIND $data AS row CALL { WITH row MERGE (c:`GraphNode` {id: row.id}) WITH c, row CALL db.create.setVectorProperty(c, 'embedding', row.embedding) YIELD node SET c.`text` = row.text SET c += row.metadata } IN TRANSACTIONS OF 1000 ROWS\"\n",
      "Adding to vector store:  93%|█████████▎| 39/42 [12:40<01:13, 24.61s/it]Received notification from DBMS server: {severity: WARNING} {code: Neo.ClientNotification.Statement.FeatureDeprecationWarning} {category: DEPRECATION} {title: This feature is deprecated and will be removed in future versions.} {description: The query used a deprecated procedure. ('db.create.setVectorProperty' has been replaced by 'db.create.setNodeVectorProperty')} {position: line: 1, column: 84, offset: 83} for query: \"UNWIND $data AS row CALL { WITH row MERGE (c:`GraphNode` {id: row.id}) WITH c, row CALL db.create.setVectorProperty(c, 'embedding', row.embedding) YIELD node SET c.`text` = row.text SET c += row.metadata } IN TRANSACTIONS OF 1000 ROWS\"\n",
      "Adding to vector store:  95%|█████████▌| 40/42 [13:06<00:50, 25.06s/it]Received notification from DBMS server: {severity: WARNING} {code: Neo.ClientNotification.Statement.FeatureDeprecationWarning} {category: DEPRECATION} {title: This feature is deprecated and will be removed in future versions.} {description: The query used a deprecated procedure. ('db.create.setVectorProperty' has been replaced by 'db.create.setNodeVectorProperty')} {position: line: 1, column: 84, offset: 83} for query: \"UNWIND $data AS row CALL { WITH row MERGE (c:`GraphNode` {id: row.id}) WITH c, row CALL db.create.setVectorProperty(c, 'embedding', row.embedding) YIELD node SET c.`text` = row.text SET c += row.metadata } IN TRANSACTIONS OF 1000 ROWS\"\n",
      "Adding to vector store:  98%|█████████▊| 41/42 [13:32<00:25, 25.52s/it]Received notification from DBMS server: {severity: WARNING} {code: Neo.ClientNotification.Statement.FeatureDeprecationWarning} {category: DEPRECATION} {title: This feature is deprecated and will be removed in future versions.} {description: The query used a deprecated procedure. ('db.create.setVectorProperty' has been replaced by 'db.create.setNodeVectorProperty')} {position: line: 1, column: 84, offset: 83} for query: \"UNWIND $data AS row CALL { WITH row MERGE (c:`GraphNode` {id: row.id}) WITH c, row CALL db.create.setVectorProperty(c, 'embedding', row.embedding) YIELD node SET c.`text` = row.text SET c += row.metadata } IN TRANSACTIONS OF 1000 ROWS\"\n",
      "Adding to vector store: 100%|██████████| 42/42 [13:51<00:00, 19.81s/it]\n"
     ]
    },
    {
     "name": "stdout",
     "output_type": "stream",
     "text": [
      "vector store initialized\n",
      "index and query engine initialized\n"
     ]
    }
   ],
   "source": [
    "rag.train_dgi()\n",
    "print(\"dgi trained\")\n",
    "rag.fetch_embeddings()\n",
    "print(\"embeddings fetched\")\n",
    "rag.add_to_vector_store()\n",
    "print(\"vector store initialized\") \n",
    "rag.init_index_and_query_engine()\n",
    "print(\"index and query engine initialized\")\n"
   ]
  },
  {
   "cell_type": "code",
   "execution_count": 11,
   "metadata": {},
   "outputs": [
    {
     "name": "stderr",
     "output_type": "stream",
     "text": [
      "Setting `pad_token_id` to `eos_token_id`:128001 for open-end generation.\n"
     ]
    },
    {
     "name": "stdout",
     "output_type": "stream",
     "text": [
      "Query: Who are the authors of Reliability Testing of Rule-Based Systems\n",
      "Response: Elaine J. Weyuker, Johannes P. Ros, Alberto Avritzer.\n"
     ]
    }
   ],
   "source": [
    "rag.run_prompt(\"Who are the authors of Reliability Testing of Rule-Based Systems\")"
   ]
  },
  {
   "cell_type": "code",
   "execution_count": 15,
   "metadata": {},
   "outputs": [
    {
     "name": "stderr",
     "output_type": "stream",
     "text": [
      "Setting `pad_token_id` to `eos_token_id`:128001 for open-end generation.\n"
     ]
    },
    {
     "name": "stdout",
     "output_type": "stream",
     "text": [
      "Query: who are the authors of Recasting Algorithms to Encourage Reuse. \n",
      "Response:  \n",
      "\n",
      "I don't have any information about the paper \"Recasting Algorithms to Encourage Reuse\" in the provided context. The context only includes information about two papers: \"Reliability Testing of Rule-Based Systems\" and \"A Parallel Algorithm for Lagrange Interpolation on the Star Graph\". Therefore, I cannot provide the\n"
     ]
    }
   ],
   "source": [
    "rag.run_prompt(\"who are the authors of Recasting Algorithms to Encourage Reuse. \")"
   ]
  }
 ],
 "metadata": {
  "kernelspec": {
   "display_name": "Python 3",
   "language": "python",
   "name": "python3"
  },
  "language_info": {
   "codemirror_mode": {
    "name": "ipython",
    "version": 3
   },
   "file_extension": ".py",
   "mimetype": "text/x-python",
   "name": "python",
   "nbconvert_exporter": "python",
   "pygments_lexer": "ipython3",
   "version": "3.8.19"
  }
 },
 "nbformat": 4,
 "nbformat_minor": 2
}
